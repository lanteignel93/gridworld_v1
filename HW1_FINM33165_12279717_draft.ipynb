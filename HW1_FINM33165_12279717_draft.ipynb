{
 "cells": [
  {
   "cell_type": "code",
   "execution_count": 68,
   "metadata": {},
   "outputs": [],
   "source": [
    "import numpy as np"
   ]
  },
  {
   "cell_type": "code",
   "execution_count": 69,
   "metadata": {},
   "outputs": [],
   "source": [
    "states = [(a,b) for a in range(5) for b in range(5)]\n",
    "actions = ['N','E','S','W']\n",
    "rewards = [-2,-1,10]"
   ]
  },
  {
   "cell_type": "code",
   "execution_count": 70,
   "metadata": {},
   "outputs": [],
   "source": [
    "def pi(a,s):\n",
    "    if a == 'N':\n",
    "        return 0.25\n",
    "    elif a == 'S':\n",
    "        return 0.25\n",
    "    elif a == 'W':\n",
    "        return 0.25\n",
    "    else:\n",
    "        return 0.25"
   ]
  },
  {
   "cell_type": "code",
   "execution_count": 71,
   "metadata": {},
   "outputs": [],
   "source": [
    "def prob2(s_prime,r,s,a):\n",
    "\n",
    "    if s in [(0,4),(1,2),(1,3),(1,4),(2,1),(2,2),(3,2)]:\n",
    "        return 0.0\n",
    "    if a == 'N':\n",
    "\n",
    "        if s in [(2,4),(2,3),(4,2),(3,1)]:\n",
    "            if s_prime == s and r == -2:\n",
    "                return 1.0\n",
    "            else:\n",
    "                return 0.0\n",
    "\n",
    "        elif s[0] > 0 and s_prime == (s[0]-1,s[1]) and r == -1:\n",
    "            return 1.0\n",
    "        elif s[0] == 0 and s_prime == s and r==-1:\n",
    "            return 1.0\n",
    "        else:\n",
    "            return 0.0\n",
    "\n",
    "    elif a == 'W':\n",
    "\n",
    "        if s in [(2,3),(3,3)]:\n",
    "            if s_prime == s and r == -2:\n",
    "                return 1.0\n",
    "            else:\n",
    "                return 0.0\n",
    "        elif s[1] > 0 and s_prime == (s[0],s[1]-1) and r == -1:\n",
    "            return 1.0\n",
    "        elif s[1] == 0 and s_prime == s and r == -1:\n",
    "            return 1.0\n",
    "        else:\n",
    "            return 0.0\n",
    "\n",
    "    elif a == 'S':\n",
    "\n",
    "        if s in [(1,1),(0,2),(0,3),(0,4)]:\n",
    "            if s_prime == s and r == -2:\n",
    "                return 1.0\n",
    "            else:\n",
    "                return 0.0\n",
    "\n",
    "        if s[0] < 4 and s_prime == (s[0]+1,s[1]) and r == -1:\n",
    "            return 1.0\n",
    "        elif s[0] == 4 and s_prime == s and r==-1:\n",
    "            return 1.0\n",
    "        else:\n",
    "            return 0.0\n",
    "\n",
    "    elif a == 'E':\n",
    "\n",
    "#         if s == [0,3]:\n",
    "#             if s_prime == [0,4] and r == 9:\n",
    "#                 return 1.0\n",
    "#             else: return 0.0\n",
    "\n",
    "        if s in [(1,1),(2,0),(3,1)]:\n",
    "            if s_prime == s and r == -2:\n",
    "                return 1.0\n",
    "            else:\n",
    "                return 0.0\n",
    "\n",
    "        if s[1] < 4 and s_prime == (s[0],s[1]+1) and r == -1:\n",
    "            return 1.0\n",
    "        elif s[1] == 4 and s_prime == s and r==-1:\n",
    "            return 1.0\n",
    "        else:\n",
    "            return 0.0 "
   ]
  },
  {
   "cell_type": "code",
   "execution_count": 72,
   "metadata": {},
   "outputs": [],
   "source": [
    "gamma = 1"
   ]
  },
  {
   "cell_type": "code",
   "execution_count": 73,
   "metadata": {},
   "outputs": [],
   "source": [
    "def B(v):\n",
    "    vector = np.array([np.sum([pi(a,s)*prob2(s_prime,r,s,a)*(r + gamma * v[states.index(s_prime)])\\\n",
    "                     for s_prime in states for a in actions for r in rewards]) for s in states])\n",
    "    vector[states.index((0,4))] = 10\n",
    "#     def w(s):\n",
    "#         i = states.index(s)\n",
    "#         if i == 4:\n",
    "#             return 10\n",
    "#         else:\n",
    "#             return vector[i]\n",
    "    \n",
    "    return vector"
   ]
  },
  {
   "cell_type": "code",
   "execution_count": 74,
   "metadata": {},
   "outputs": [],
   "source": [
    "v_0 = np.zeros(25)"
   ]
  },
  {
   "cell_type": "code",
   "execution_count": 75,
   "metadata": {},
   "outputs": [],
   "source": [
    "eps = 1 \n",
    "w = v_0\n",
    "while eps > 0.0001:\n",
    "    v = B(w)\n",
    "    eps = (np.array([(v[states.index(s)] - w[states.index(s)])**2 for s in states ])).sum()\n",
    "    w = v"
   ]
  },
  {
   "cell_type": "code",
   "execution_count": 76,
   "metadata": {},
   "outputs": [
    {
     "ename": "ValueError",
     "evalue": "[0, 1] is not in list",
     "output_type": "error",
     "traceback": [
      "\u001b[1;31m---------------------------------------------------------------------------\u001b[0m",
      "\u001b[1;31mValueError\u001b[0m                                Traceback (most recent call last)",
      "\u001b[1;32m<ipython-input-76-78c26e5e94d5>\u001b[0m in \u001b[0;36m<module>\u001b[1;34m\u001b[0m\n\u001b[1;32m----> 1\u001b[1;33m \u001b[0mv\u001b[0m\u001b[1;33m[\u001b[0m\u001b[0mstates\u001b[0m\u001b[1;33m.\u001b[0m\u001b[0mindex\u001b[0m\u001b[1;33m(\u001b[0m\u001b[1;33m[\u001b[0m\u001b[1;36m0\u001b[0m\u001b[1;33m,\u001b[0m\u001b[1;36m1\u001b[0m\u001b[1;33m]\u001b[0m\u001b[1;33m)\u001b[0m\u001b[1;33m]\u001b[0m\u001b[1;33m\u001b[0m\u001b[1;33m\u001b[0m\u001b[0m\n\u001b[0m",
      "\u001b[1;31mValueError\u001b[0m: [0, 1] is not in list"
     ]
    }
   ],
   "source": [
    "v[states.index([0,1])]"
   ]
  },
  {
   "cell_type": "code",
   "execution_count": 77,
   "metadata": {},
   "outputs": [
    {
     "name": "stdout",
     "output_type": "stream",
     "text": [
      "(0, 0) -260.9580813316363\n",
      "(0, 1) -226.53220960960599\n",
      "(0, 2) -152.6853817810218\n",
      "(0, 3) -73.8418600104887\n",
      "(0, 4) 10.0\n",
      "(1, 0) -291.389647620823\n",
      "(1, 1) -261.9580813316363\n",
      "(1, 2) 0.0\n",
      "(1, 3) 0.0\n",
      "(1, 4) 0.0\n",
      "(2, 0) -347.2591938786195\n",
      "(2, 1) 0.0\n",
      "(2, 2) 0.0\n",
      "(2, 3) -521.1596791488599\n",
      "(2, 4) -521.623884509359\n",
      "(3, 0) -398.13652464441384\n",
      "(3, 1) -422.07972679517616\n",
      "(3, 2) 0.0\n",
      "(3, 3) -514.7078067323284\n",
      "(3, 4) -517.1004486776203\n",
      "(4, 0) -421.07972679517616\n",
      "(4, 1) -440.0325993224599\n",
      "(4, 2) -472.94850997649263\n",
      "(4, 3) -500.8754698541501\n",
      "(4, 4) -510.98190959442206\n"
     ]
    }
   ],
   "source": [
    "for s in states:\n",
    "    print(s,v[states.index(s)])"
   ]
  },
  {
   "cell_type": "code",
   "execution_count": 78,
   "metadata": {},
   "outputs": [
    {
     "name": "stdout",
     "output_type": "stream",
     "text": [
      "[-260.95808133 -226.53220961 -152.68538178  -73.84186001   10.        ]\n",
      "[-291.38964762 -261.95808133    0.            0.            0.        ]\n",
      "[-347.25919388    0.            0.         -521.15967915 -521.62388451]\n",
      "[-398.13652464 -422.0797268     0.         -514.70780673 -517.10044868]\n",
      "[-421.0797268  -440.03259932 -472.94850998 -500.87546985 -510.98190959]\n"
     ]
    }
   ],
   "source": [
    "val = v.reshape((5,5))\n",
    "for row in val:\n",
    "    print(row)\n"
   ]
  },
  {
   "cell_type": "code",
   "execution_count": 79,
   "metadata": {},
   "outputs": [],
   "source": [
    "policy = np.zeros(25)"
   ]
  },
  {
   "cell_type": "code",
   "execution_count": 80,
   "metadata": {},
   "outputs": [
    {
     "name": "stdout",
     "output_type": "stream",
     "text": [
      "30285.92971403633\n",
      "37051.73064963819\n",
      "39155.3602295812\n",
      "37328.38732462219\n",
      "29454.50296026766\n",
      "34790.69152404078\n",
      "37750.5024349192\n",
      "36450.627172562265\n",
      "25206.72707208556\n",
      "26636.503196001686\n",
      "30712.611083028733\n",
      "31151.43562796112\n",
      "19785.16142163427\n",
      "6862.773769997407\n",
      "0.0\n"
     ]
    }
   ],
   "source": [
    "while eps>0.000001:\n",
    "    \n",
    "    def q(s,a):\n",
    "        return np.sum([prob2(s_prime,r,s,a)*(r + v[states.index(s_prime)]) for s_prime in states for r in rewards])\n",
    "    \n",
    "    new_v =  np.array([np.max([q(s,a) for a in actions]) for s in states]) \n",
    "    new_policy = np.array([actions[np.argmax([q(s,a) for a in actions])] for s in states]) \n",
    "    new_v[4] = 10\n",
    "    eps = np.sum((v - new_v)**2)\n",
    "    policy = new_policy\n",
    "    v = new_v\n",
    "    print(eps)"
   ]
  },
  {
   "cell_type": "code",
   "execution_count": 81,
   "metadata": {},
   "outputs": [
    {
     "data": {
      "text/plain": [
       "array([[ 6.,  7.,  8.,  9., 10.],\n",
       "       [ 5.,  6.,  0.,  0.,  0.],\n",
       "       [ 4.,  0.,  0., -3., -4.],\n",
       "       [ 3.,  2.,  0., -2., -3.],\n",
       "       [ 2.,  1.,  0., -1., -2.]])"
      ]
     },
     "execution_count": 81,
     "metadata": {},
     "output_type": "execute_result"
    }
   ],
   "source": [
    "val = v.reshape((5,5))\n",
    "val"
   ]
  },
  {
   "cell_type": "code",
   "execution_count": 82,
   "metadata": {},
   "outputs": [
    {
     "data": {
      "text/plain": [
       "array([['E', 'E', 'E', 'E', 'N'],\n",
       "       ['N', 'N', 'N', 'N', 'N'],\n",
       "       ['N', 'N', 'N', 'S', 'S'],\n",
       "       ['N', 'W', 'N', 'S', 'S'],\n",
       "       ['N', 'N', 'W', 'W', 'W']], dtype='<U1')"
      ]
     },
     "execution_count": 82,
     "metadata": {},
     "output_type": "execute_result"
    }
   ],
   "source": [
    "policy.reshape((5,5))"
   ]
  },
  {
   "cell_type": "code",
   "execution_count": 83,
   "metadata": {},
   "outputs": [],
   "source": [
    "d = {'a':1,'b':2,'c':3,'d':4}"
   ]
  },
  {
   "cell_type": "code",
   "execution_count": 84,
   "metadata": {},
   "outputs": [
    {
     "data": {
      "text/plain": [
       "1"
      ]
     },
     "execution_count": 84,
     "metadata": {},
     "output_type": "execute_result"
    }
   ],
   "source": [
    "d['a']"
   ]
  },
  {
   "cell_type": "code",
   "execution_count": 92,
   "metadata": {},
   "outputs": [
    {
     "name": "stdout",
     "output_type": "stream",
     "text": [
      "1\n",
      "2\n",
      "3\n",
      "4\n"
     ]
    }
   ],
   "source": [
    "a = d.values()\n",
    "for x in a:\n",
    "    print(x)"
   ]
  },
  {
   "cell_type": "code",
   "execution_count": 93,
   "metadata": {},
   "outputs": [
    {
     "data": {
      "text/plain": [
       "1"
      ]
     },
     "execution_count": 93,
     "metadata": {},
     "output_type": "execute_result"
    }
   ],
   "source": [
    "d['a']"
   ]
  },
  {
   "cell_type": "code",
   "execution_count": 94,
   "metadata": {},
   "outputs": [],
   "source": [
    "a = [-1,-1,2,10]"
   ]
  },
  {
   "cell_type": "code",
   "execution_count": 96,
   "metadata": {},
   "outputs": [
    {
     "data": {
      "text/plain": [
       "[2, 10, -1]"
      ]
     },
     "execution_count": 96,
     "metadata": {},
     "output_type": "execute_result"
    }
   ],
   "source": [
    "list(set(a))"
   ]
  },
  {
   "cell_type": "code",
   "execution_count": 98,
   "metadata": {},
   "outputs": [],
   "source": [
    "a = np.array(['X' for _ in range(25)])"
   ]
  },
  {
   "cell_type": "code",
   "execution_count": 99,
   "metadata": {},
   "outputs": [
    {
     "data": {
      "text/plain": [
       "array(['X', 'X', 'X', 'X', 'X', 'X', 'X', 'X', 'X', 'X', 'X', 'X', 'X',\n",
       "       'X', 'X', 'X', 'X', 'X', 'X', 'X', 'X', 'X', 'X', 'X', 'X'],\n",
       "      dtype='<U1')"
      ]
     },
     "execution_count": 99,
     "metadata": {},
     "output_type": "execute_result"
    }
   ],
   "source": [
    "a"
   ]
  },
  {
   "cell_type": "code",
   "execution_count": 100,
   "metadata": {},
   "outputs": [
    {
     "data": {
      "text/plain": [
       "array([['X', 'X', 'X', 'X', 'X'],\n",
       "       ['X', 'X', 'X', 'X', 'X'],\n",
       "       ['X', 'X', 'X', 'X', 'X'],\n",
       "       ['X', 'X', 'X', 'X', 'X'],\n",
       "       ['X', 'X', 'X', 'X', 'X']], dtype='<U1')"
      ]
     },
     "execution_count": 100,
     "metadata": {},
     "output_type": "execute_result"
    }
   ],
   "source": [
    "a.reshape((5,5))"
   ]
  },
  {
   "cell_type": "code",
   "execution_count": null,
   "metadata": {},
   "outputs": [],
   "source": []
  }
 ],
 "metadata": {
  "kernelspec": {
   "display_name": "Python 3",
   "language": "python",
   "name": "python3"
  },
  "language_info": {
   "codemirror_mode": {
    "name": "ipython",
    "version": 3
   },
   "file_extension": ".py",
   "mimetype": "text/x-python",
   "name": "python",
   "nbconvert_exporter": "python",
   "pygments_lexer": "ipython3",
   "version": "3.8.3"
  }
 },
 "nbformat": 4,
 "nbformat_minor": 4
}
