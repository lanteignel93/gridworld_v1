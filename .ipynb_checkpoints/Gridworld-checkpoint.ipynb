{
 "cells": [
  {
   "cell_type": "code",
   "execution_count": 1,
   "metadata": {},
   "outputs": [],
   "source": [
    "import numpy as np"
   ]
  },
  {
   "cell_type": "code",
   "execution_count": 2,
   "metadata": {},
   "outputs": [],
   "source": [
    "actions = ['N','E','S','W']\n",
    "states = [[a,b] for a in range(4) for b in range(4)]\n",
    "rewards = [-1,0,10,5]"
   ]
  },
  {
   "cell_type": "code",
   "execution_count": 3,
   "metadata": {},
   "outputs": [],
   "source": [
    "def prob(s_prime,r,s,a):\n",
    "    \n",
    "    if s == [0,1]:\n",
    "        if s_prime == [3,1] and r == 10:\n",
    "            return 1.0\n",
    "        else: return 0.0\n",
    "        \n",
    "    if s == [1,3]:\n",
    "        if s_prime == [3,3] and r == 5:\n",
    "            return 1.0\n",
    "        else:  return 0.0\n",
    "\n",
    "    if a == 'N':\n",
    "\n",
    "        if s == [1,1]:\n",
    "            if s_prime == [3,1] and r==10:\n",
    "                return 1.0\n",
    "            else:\n",
    "                return 0.0\n",
    "        \n",
    "        elif s == [2,3]:\n",
    "            if s_prime == [3,3] and r==5:\n",
    "                return 1.0\n",
    "            else:\n",
    "                return 0.0\n",
    "            \n",
    "        elif s[0] > 0 and s_prime == [s[0]-1,s[1]] and r == 0:\n",
    "            return 1.0\n",
    "        elif s[0] == 0 and s_prime == s and r==-1:\n",
    "            return 1.0\n",
    "        else:\n",
    "            return 0.0\n",
    "        \n",
    "    elif a == 'W':\n",
    "        if s == [0,0]:\n",
    "            if s_prime == [3,1] and r == 10:\n",
    "                return 1.0\n",
    "            else:\n",
    "                return 0.0\n",
    "        elif s == [1,2]:\n",
    "            if s_prime == [3,3] and r==5:\n",
    "                return 1.0\n",
    "            else: return 0.0\n",
    "        elif s[1] < 3 and s_prime == [s[0],s[1]+1] and r == 0:\n",
    "            return 1.0\n",
    "        elif s[1] == 3 and s_prime == s and r == -1:\n",
    "            return 1.0\n",
    "        else:\n",
    "            return 0.0\n",
    "    elif a == 'S':\n",
    "        \n",
    "        if s == [0,3]:\n",
    "            if s_prime == [3,3] and r == 5:\n",
    "                return 1.0\n",
    "            else: return 0.0\n",
    "\n",
    "        if s[0] < 3 and s_prime == [s[0]+1,s[1]] and r == 0:\n",
    "            return 1.0\n",
    "        elif s[0] == 3 and s_prime == s and r==-1:\n",
    "            return 1.0\n",
    "        else:\n",
    "            return 0.0\n",
    "    elif a == 'E':\n",
    "\n",
    "        if s == [0,2]:\n",
    "            if s_prime == [3,1] and r==10:\n",
    "                return 1.0\n",
    "            else:\n",
    "                return 0.0\n",
    "        \n",
    "        if s[1] > 0 and s_prime == [s[0],s[1]-1] and r == 0:\n",
    "            return 1.0\n",
    "        elif s[1] == 0 and s_prime == s and r==-1:\n",
    "            return 1.0\n",
    "        else:\n",
    "            return 0.0\n",
    "        \n",
    "    \n",
    "    \n",
    "        \n",
    "        "
   ]
  },
  {
   "cell_type": "code",
   "execution_count": 4,
   "metadata": {},
   "outputs": [],
   "source": [
    "def pi(a,s):\n",
    "    if a == 'N':\n",
    "        return 0.25\n",
    "    elif a == 'S':\n",
    "        return 0.25\n",
    "    elif a == 'W':\n",
    "        return 0.25\n",
    "    else:\n",
    "        return 0.25\n",
    "        "
   ]
  },
  {
   "cell_type": "code",
   "execution_count": 5,
   "metadata": {},
   "outputs": [],
   "source": [
    "gamma = 0.9"
   ]
  },
  {
   "cell_type": "markdown",
   "metadata": {},
   "source": [
    "## Finding the Value Function by finding a fixed point for the Bellman Operator"
   ]
  },
  {
   "cell_type": "code",
   "execution_count": 6,
   "metadata": {},
   "outputs": [],
   "source": [
    "def B(v):\n",
    "    \n",
    "    vector = np.array([np.sum([pi(a,s)*prob(s_prime,r,s,a)*(r + gamma * v(s_prime))\\\n",
    "                     for s_prime in states for a in actions for r in rewards]) for s in states])\n",
    "    \n",
    "    def w(s):\n",
    "        i = states.index(s)\n",
    "        return vector[i]\n",
    "    return w"
   ]
  },
  {
   "cell_type": "code",
   "execution_count": 7,
   "metadata": {},
   "outputs": [],
   "source": [
    "def v_0(s):\n",
    "    return 0.0"
   ]
  },
  {
   "cell_type": "code",
   "execution_count": 8,
   "metadata": {},
   "outputs": [],
   "source": [
    "eps = 1 \n",
    "w = v_0\n",
    "while eps > 0.0001:\n",
    "    v = B(w)\n",
    "    eps = (np.array([(v(s) - w(s))**2 for s in states ])).sum()\n",
    "    w = v"
   ]
  },
  {
   "cell_type": "code",
   "execution_count": 9,
   "metadata": {},
   "outputs": [
    {
     "name": "stdout",
     "output_type": "stream",
     "text": [
      "[0, 0] 4.47637425119391\n",
      "[0, 1] 9.802977043316483\n",
      "[0, 2] 4.761911687147082\n",
      "[0, 3] 3.169274029008303\n",
      "[1, 0] 2.279654661683294\n",
      "[1, 1] 4.0262647865880385\n",
      "[1, 2] 3.459078086614098\n",
      "[1, 3] 4.693240962952359\n",
      "[2, 0] 0.4704470740561536\n",
      "[2, 1] 1.2709270674128232\n",
      "[2, 2] 1.3781136190675718\n",
      "[2, 3] 1.4910996203054923\n",
      "[3, 0] -0.8092106557526602\n",
      "[3, 1] -0.21646422763220977\n",
      "[3, 2] -0.08640781560704938\n",
      "[3, 3] -0.3384177011247706\n"
     ]
    }
   ],
   "source": [
    "for s in states:\n",
    "    print(s,v(s))"
   ]
  },
  {
   "cell_type": "markdown",
   "metadata": {},
   "source": [
    "## Finding the Value Function by solving system of linear equations"
   ]
  },
  {
   "cell_type": "code",
   "execution_count": 10,
   "metadata": {},
   "outputs": [],
   "source": [
    "V = np.eye(16)-np.array([np.array([np.sum([pi(a,s)*prob(s_prime,r,s,a)*gamma \\\n",
    "                for a in actions for r in rewards]) for s_prime in states]) for s in states]) "
   ]
  },
  {
   "cell_type": "code",
   "execution_count": 11,
   "metadata": {},
   "outputs": [
    {
     "data": {
      "text/plain": [
       "array([[ 0.55 ,  0.   ,  0.   ,  0.   , -0.225,  0.   ,  0.   ,  0.   ,\n",
       "         0.   ,  0.   ,  0.   ,  0.   ,  0.   , -0.225,  0.   ,  0.   ],\n",
       "       [ 0.   ,  1.   ,  0.   ,  0.   ,  0.   ,  0.   ,  0.   ,  0.   ,\n",
       "         0.   ,  0.   ,  0.   ,  0.   ,  0.   , -0.9  ,  0.   ,  0.   ],\n",
       "       [ 0.   ,  0.   ,  0.775, -0.225,  0.   ,  0.   , -0.225,  0.   ,\n",
       "         0.   ,  0.   ,  0.   ,  0.   ,  0.   , -0.225,  0.   ,  0.   ],\n",
       "       [ 0.   ,  0.   , -0.225,  0.55 ,  0.   ,  0.   ,  0.   ,  0.   ,\n",
       "         0.   ,  0.   ,  0.   ,  0.   ,  0.   ,  0.   ,  0.   , -0.225],\n",
       "       [-0.225,  0.   ,  0.   ,  0.   ,  0.775, -0.225,  0.   ,  0.   ,\n",
       "        -0.225,  0.   ,  0.   ,  0.   ,  0.   ,  0.   ,  0.   ,  0.   ],\n",
       "       [ 0.   ,  0.   ,  0.   ,  0.   , -0.225,  1.   , -0.225,  0.   ,\n",
       "         0.   , -0.225,  0.   ,  0.   ,  0.   , -0.225,  0.   ,  0.   ],\n",
       "       [ 0.   ,  0.   , -0.225,  0.   ,  0.   , -0.225,  1.   ,  0.   ,\n",
       "         0.   ,  0.   , -0.225,  0.   ,  0.   ,  0.   ,  0.   , -0.225],\n",
       "       [ 0.   ,  0.   ,  0.   ,  0.   ,  0.   ,  0.   ,  0.   ,  1.   ,\n",
       "         0.   ,  0.   ,  0.   ,  0.   ,  0.   ,  0.   ,  0.   , -0.9  ],\n",
       "       [ 0.   ,  0.   ,  0.   ,  0.   , -0.225,  0.   ,  0.   ,  0.   ,\n",
       "         0.775, -0.225,  0.   ,  0.   , -0.225,  0.   ,  0.   ,  0.   ],\n",
       "       [ 0.   ,  0.   ,  0.   ,  0.   ,  0.   , -0.225,  0.   ,  0.   ,\n",
       "        -0.225,  1.   , -0.225,  0.   ,  0.   , -0.225,  0.   ,  0.   ],\n",
       "       [ 0.   ,  0.   ,  0.   ,  0.   ,  0.   ,  0.   , -0.225,  0.   ,\n",
       "         0.   , -0.225,  1.   , -0.225,  0.   ,  0.   , -0.225,  0.   ],\n",
       "       [ 0.   ,  0.   ,  0.   ,  0.   ,  0.   ,  0.   ,  0.   ,  0.   ,\n",
       "         0.   ,  0.   , -0.225,  0.775,  0.   ,  0.   ,  0.   , -0.45 ],\n",
       "       [ 0.   ,  0.   ,  0.   ,  0.   ,  0.   ,  0.   ,  0.   ,  0.   ,\n",
       "        -0.225,  0.   ,  0.   ,  0.   ,  0.55 , -0.225,  0.   ,  0.   ],\n",
       "       [ 0.   ,  0.   ,  0.   ,  0.   ,  0.   ,  0.   ,  0.   ,  0.   ,\n",
       "         0.   , -0.225,  0.   ,  0.   , -0.225,  0.775, -0.225,  0.   ],\n",
       "       [ 0.   ,  0.   ,  0.   ,  0.   ,  0.   ,  0.   ,  0.   ,  0.   ,\n",
       "         0.   ,  0.   , -0.225,  0.   ,  0.   , -0.225,  0.775, -0.225],\n",
       "       [ 0.   ,  0.   ,  0.   ,  0.   ,  0.   ,  0.   ,  0.   ,  0.   ,\n",
       "         0.   ,  0.   ,  0.   , -0.225,  0.   ,  0.   , -0.225,  0.55 ]])"
      ]
     },
     "execution_count": 11,
     "metadata": {},
     "output_type": "execute_result"
    }
   ],
   "source": [
    "V"
   ]
  },
  {
   "cell_type": "code",
   "execution_count": 12,
   "metadata": {},
   "outputs": [],
   "source": [
    "C = np.array([np.sum([pi(a,s)*prob(s_prime,r,s,a)*r \\\n",
    "                for a in actions for r in rewards for s_prime in states]) for s in states]).reshape(-1,1)"
   ]
  },
  {
   "cell_type": "code",
   "execution_count": 13,
   "metadata": {},
   "outputs": [
    {
     "data": {
      "text/plain": [
       "array([[ 2.  ],\n",
       "       [10.  ],\n",
       "       [ 2.25],\n",
       "       [ 0.75],\n",
       "       [-0.25],\n",
       "       [ 2.5 ],\n",
       "       [ 1.25],\n",
       "       [ 5.  ],\n",
       "       [-0.25],\n",
       "       [ 0.  ],\n",
       "       [ 0.  ],\n",
       "       [ 1.  ],\n",
       "       [-0.5 ],\n",
       "       [-0.25],\n",
       "       [-0.25],\n",
       "       [-0.5 ]])"
      ]
     },
     "execution_count": 13,
     "metadata": {},
     "output_type": "execute_result"
    }
   ],
   "source": [
    "C"
   ]
  },
  {
   "cell_type": "code",
   "execution_count": 14,
   "metadata": {},
   "outputs": [],
   "source": [
    "V_inv = np.linalg.inv(V)"
   ]
  },
  {
   "cell_type": "code",
   "execution_count": 15,
   "metadata": {},
   "outputs": [
    {
     "data": {
      "text/plain": [
       "array([[ 4.49841868],\n",
       "       [ 9.8249919 ],\n",
       "       [ 4.78387499],\n",
       "       [ 3.19120373],\n",
       "       [ 2.3016991 ],\n",
       "       [ 4.0482756 ],\n",
       "       [ 3.48104136],\n",
       "       [ 4.71516071],\n",
       "       [ 0.4924915 ],\n",
       "       [ 1.29293787],\n",
       "       [ 1.40007687],\n",
       "       [ 1.51302923],\n",
       "       [-0.78716625],\n",
       "       [-0.19445344],\n",
       "       [-0.06444458],\n",
       "       [-0.3164881 ]])"
      ]
     },
     "execution_count": 15,
     "metadata": {},
     "output_type": "execute_result"
    }
   ],
   "source": [
    "V_inv@C"
   ]
  },
  {
   "cell_type": "code",
   "execution_count": 16,
   "metadata": {},
   "outputs": [],
   "source": [
    "def q(s,a):\n",
    "       return np.sum([prob(s_prime,r,s,a)*(r + gamma*v(s_prime))\\\n",
    "     for s_prime in states for r in rewards])\n",
    "    "
   ]
  }
 ],
 "metadata": {
  "kernelspec": {
   "display_name": "Python 3",
   "language": "python",
   "name": "python3"
  },
  "language_info": {
   "codemirror_mode": {
    "name": "ipython",
    "version": 3
   },
   "file_extension": ".py",
   "mimetype": "text/x-python",
   "name": "python",
   "nbconvert_exporter": "python",
   "pygments_lexer": "ipython3",
   "version": "3.8.3"
  }
 },
 "nbformat": 4,
 "nbformat_minor": 4
}
