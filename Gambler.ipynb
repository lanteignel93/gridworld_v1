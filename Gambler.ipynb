{
 "cells": [
  {
   "cell_type": "code",
   "execution_count": 1,
   "metadata": {},
   "outputs": [],
   "source": [
    "import numpy as np\n",
    "import matplotlib.pyplot as plt"
   ]
  },
  {
   "cell_type": "code",
   "execution_count": 2,
   "metadata": {},
   "outputs": [],
   "source": [
    "p_h = 0.4"
   ]
  },
  {
   "cell_type": "code",
   "execution_count": 3,
   "metadata": {},
   "outputs": [],
   "source": [
    "states = list(range(101))"
   ]
  },
  {
   "cell_type": "code",
   "execution_count": 4,
   "metadata": {},
   "outputs": [],
   "source": [
    "rewards = [0,1]"
   ]
  },
  {
   "cell_type": "code",
   "execution_count": 5,
   "metadata": {},
   "outputs": [],
   "source": [
    "actions = []\n",
    "for s in states:\n",
    "    if s < 100 and s > 0:\n",
    "        A_s = list(range(min(s,100-s)+1))\n",
    "    else: A_s = [0]\n",
    "    actions.append(A_s)"
   ]
  },
  {
   "cell_type": "code",
   "execution_count": 6,
   "metadata": {},
   "outputs": [
    {
     "data": {
      "text/plain": [
       "[0, 1]"
      ]
     },
     "execution_count": 6,
     "metadata": {},
     "output_type": "execute_result"
    }
   ],
   "source": [
    "actions[1]"
   ]
  },
  {
   "cell_type": "code",
   "execution_count": 7,
   "metadata": {},
   "outputs": [],
   "source": [
    "def p(s_prime,r,s,a):\n",
    "    if  (s==100 and s_prime==100 and r==0) or (s == 0 and s_prime==0 and r==0):\n",
    "        return 1.0\n",
    "    elif (s_prime == s+a and (a in actions[s]) and s_prime<100 and r == 0):\n",
    "        return p_h\n",
    "    elif (s_prime == s+a and (a in actions[s]) and s < 100 and s_prime==100 and r == 1):\n",
    "        return p_h\n",
    "    elif (s_prime == s-a and (a in actions[s]) and s_prime>0 and r == 0):\n",
    "        return 1-p_h\n",
    "    elif (s_prime == s-a and (a in actions[s]) and s_prime==0 and r == 0):\n",
    "        return 1-p_h\n",
    "    else:\n",
    "        return 0.0\n"
   ]
  },
  {
   "cell_type": "code",
   "execution_count": 8,
   "metadata": {},
   "outputs": [],
   "source": [
    "def pi(a,s):\n",
    "    if a in actions[s]:\n",
    "        return 1/len(actions[s])\n",
    "    else: return 0.0"
   ]
  },
  {
   "cell_type": "code",
   "execution_count": 129,
   "metadata": {},
   "outputs": [],
   "source": [
    "def B(v):\n",
    "    w = [np.sum([pi(a,s)*p(s_prime,r,s,a)*(r+v[s_prime]) for s_prime in states \\\n",
    "           for r in rewards for a in actions[s] ]) for s in states]\n",
    "    w[0] = 0\n",
    "    w[100] = 0\n",
    "    \n",
    "    return w"
   ]
  },
  {
   "cell_type": "code",
   "execution_count": 130,
   "metadata": {},
   "outputs": [],
   "source": [
    "v_0 = np.zeros(101)"
   ]
  },
  {
   "cell_type": "code",
   "execution_count": 131,
   "metadata": {},
   "outputs": [],
   "source": [
    "w = B(v_0)"
   ]
  },
  {
   "cell_type": "code",
   "execution_count": 132,
   "metadata": {},
   "outputs": [
    {
     "data": {
      "text/plain": [
       "0.5"
      ]
     },
     "execution_count": 132,
     "metadata": {},
     "output_type": "execute_result"
    }
   ],
   "source": [
    "s = 99\n",
    "actions[s]\n",
    "pi(1,s)"
   ]
  },
  {
   "cell_type": "code",
   "execution_count": 133,
   "metadata": {},
   "outputs": [
    {
     "data": {
      "text/plain": [
       "0.4"
      ]
     },
     "execution_count": 133,
     "metadata": {},
     "output_type": "execute_result"
    }
   ],
   "source": [
    "p(100,1,99,1)"
   ]
  },
  {
   "cell_type": "code",
   "execution_count": 134,
   "metadata": {},
   "outputs": [
    {
     "data": {
      "image/png": "[encoded data removed]",
      "text/plain": [
       "<Figure size 432x288 with 1 Axes>"
      ]
     },
     "metadata": {
      "needs_background": "light"
     },
     "output_type": "display_data"
    }
   ],
   "source": [
    "plt.plot(w[1:100]);"
   ]
  },
  {
   "cell_type": "code",
   "execution_count": 135,
   "metadata": {},
   "outputs": [
    {
     "name": "stdout",
     "output_type": "stream",
     "text": [
      "0.10008275218144394\n",
      "0.0601938424036695\n",
      "0.045368339243608516\n",
      "0.03456124544088787\n",
      "0.02582750055592982\n",
      "0.01893470112893298\n",
      "0.013678724988618472\n",
      "0.009777738042095951\n",
      "0.0069374087298778465\n",
      "0.004896610994025015\n",
      "0.0034436292109095924\n",
      "0.002415661017848923\n",
      "0.0016915556214453552\n",
      "0.00118303770404016\n",
      "0.0008266740889882101\n",
      "0.0005773062391865553\n",
      "0.00040298897238514036\n",
      "0.00028122254911872393\n",
      "0.00019620753676714535\n",
      "0.00013687265622575357\n",
      "9.547110629334025e-05\n",
      "6.658778645781115e-05\n",
      "4.644016123962312e-05\n",
      "3.238737661314365e-05\n",
      "2.2586306034541665e-05\n",
      "1.575089250250101e-05\n",
      "1.0983932650365372e-05\n",
      "7.65957831831104e-06\n",
      "5.341303985005459e-06\n",
      "3.7246544306726794e-06\n",
      "2.5972965684637894e-06\n",
      "1.811150024984904e-06\n",
      "1.2629466307163169e-06\n",
      "8.806706972677679e-07\n"
     ]
    }
   ],
   "source": [
    "eps = 1 \n",
    "w = v_0\n",
    "while eps > 0.000001:\n",
    "    \n",
    "    v = B(w)\n",
    "    eps = (np.array([(v[s] - w[s])**2 for s in states ])).sum()\n",
    "\n",
    "    w = v\n",
    "    print(eps)"
   ]
  },
  {
   "cell_type": "code",
   "execution_count": 136,
   "metadata": {
    "scrolled": true
   },
   "outputs": [
    {
     "data": {
      "image/png": "[encoded data removed]",
      "text/plain": [
       "<Figure size 432x288 with 1 Axes>"
      ]
     },
     "metadata": {
      "needs_background": "light"
     },
     "output_type": "display_data"
    }
   ],
   "source": [
    "plt.plot(v[1:100]);"
   ]
  },
  {
   "cell_type": "code",
   "execution_count": 137,
   "metadata": {},
   "outputs": [
    {
     "data": {
      "text/plain": [
       "[0.1159884455159527,\n",
       " 0.12026834625801969,\n",
       " 0.1293254508681712,\n",
       " 0.132427781630988]"
      ]
     },
     "execution_count": 137,
     "metadata": {},
     "output_type": "execute_result"
    }
   ],
   "source": [
    "v[48:52]"
   ]
  },
  {
   "cell_type": "code",
   "execution_count": 138,
   "metadata": {},
   "outputs": [],
   "source": [
    "def q(s,a):\n",
    "    return np.sum([p(s_prime,r,s,a)*(r + v[s_prime]) for s_prime in states for r in rewards])"
   ]
  },
  {
   "cell_type": "code",
   "execution_count": 139,
   "metadata": {},
   "outputs": [],
   "source": [
    "q_val = [q(s,min(s,100-s)) for s in range(1,100)]"
   ]
  },
  {
   "cell_type": "code",
   "execution_count": 140,
   "metadata": {},
   "outputs": [
    {
     "data": {
      "image/png": "[encoded data removed]",
      "text/plain": [
       "<Figure size 432x288 with 1 Axes>"
      ]
     },
     "metadata": {
      "needs_background": "light"
     },
     "output_type": "display_data"
    }
   ],
   "source": [
    "plt.plot(q_val);"
   ]
  },
  {
   "cell_type": "code",
   "execution_count": 141,
   "metadata": {},
   "outputs": [
    {
     "name": "stdout",
     "output_type": "stream",
     "text": [
      "2.9695280311344767\n",
      "0.7738906406746513\n",
      "0.19254675696133525\n",
      "0.050317715889442956\n",
      "0.013199267375671203\n",
      "0.0029706310019005605\n",
      "0.0007189647592518516\n",
      "0.00017665243139349383\n",
      "4.325124401205664e-05\n",
      "1.271319466991231e-05\n",
      "3.4490795781870795e-06\n",
      "9.04450578415219e-07\n"
     ]
    }
   ],
   "source": [
    "eps = 1\n",
    "\n",
    "while eps>0.000001:\n",
    "    \n",
    "    def q(s,a):\n",
    "        return np.sum([p(s_prime,r,s,a)*(r + v[s_prime]) for s_prime in states for r in rewards])\n",
    "    \n",
    "    new_v =  np.array([np.max([q(s,a) for a in actions[s]]) for s in states]) \n",
    "    new_v[0]=0\n",
    "    new_v[100]=0\n",
    "    eps = np.sum((v - new_v)**2)\n",
    "    print(eps)\n",
    "    v = new_v"
   ]
  },
  {
   "cell_type": "code",
   "execution_count": 142,
   "metadata": {},
   "outputs": [
    {
     "data": {
      "image/png": "[encoded data removed]",
      "text/plain": [
       "<Figure size 432x288 with 1 Axes>"
      ]
     },
     "metadata": {
      "needs_background": "light"
     },
     "output_type": "display_data"
    }
   ],
   "source": [
    "plt.plot(v[1:100]);"
   ]
  },
  {
   "cell_type": "code",
   "execution_count": null,
   "metadata": {},
   "outputs": [],
   "source": []
  },
  {
   "cell_type": "code",
   "execution_count": 143,
   "metadata": {},
   "outputs": [],
   "source": [
    "opt_actions = [actions[s][np.argmax([round(q(s,a),5) for a in actions[s]])] for s in range(1,100)]"
   ]
  },
  {
   "cell_type": "code",
   "execution_count": 144,
   "metadata": {},
   "outputs": [
    {
     "data": {
      "text/plain": [
       "[<matplotlib.lines.Line2D at 0x2c72a918910>]"
      ]
     },
     "execution_count": 144,
     "metadata": {},
     "output_type": "execute_result"
    },
    {
     "data": {
      "image/png": "[encoded data removed]",
      "text/plain": [
       "<Figure size 432x288 with 1 Axes>"
      ]
     },
     "metadata": {
      "needs_background": "light"
     },
     "output_type": "display_data"
    }
   ],
   "source": [
    "plt.plot(opt_actions)"
   ]
  },
  {
   "cell_type": "code",
   "execution_count": 149,
   "metadata": {},
   "outputs": [
    {
     "data": {
      "text/plain": [
       "1"
      ]
     },
     "execution_count": 149,
     "metadata": {},
     "output_type": "execute_result"
    }
   ],
   "source": [
    "opt_actions[25]"
   ]
  },
  {
   "cell_type": "code",
   "execution_count": null,
   "metadata": {},
   "outputs": [],
   "source": []
  },
  {
   "cell_type": "code",
   "execution_count": null,
   "metadata": {},
   "outputs": [],
   "source": [
    "eps = 1\n",
    "while eps > 0.01:\n",
    "    new_v = [np.max([q(s,a) for a in actions[s]]) for s in states]\n",
    "    new_q = [[np.sum([p(s_prime,r,s,a)*(r + new_v[s_prime]) for s_prime in states for r in rewards]) for a in actions[s]] for s in states]\n",
    "    new_q = np.argmax([new_q(s,a) ])\n",
    "    eps = np.sum([(v[s] - new_v[s])**2 for s in states])\n",
    "    q = new_q\n",
    "    v = new_v\n"
   ]
  }
 ],
 "metadata": {
  "kernelspec": {
   "display_name": "Python 3",
   "language": "python",
   "name": "python3"
  },
  "language_info": {
   "codemirror_mode": {
    "name": "ipython",
    "version": 3
   },
   "file_extension": ".py",
   "mimetype": "text/x-python",
   "name": "python",
   "nbconvert_exporter": "python",
   "pygments_lexer": "ipython3",
   "version": "3.8.3"
  }
 },
 "nbformat": 4,
 "nbformat_minor": 4
}
